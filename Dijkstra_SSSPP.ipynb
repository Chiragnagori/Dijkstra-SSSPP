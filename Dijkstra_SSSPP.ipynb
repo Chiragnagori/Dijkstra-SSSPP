{
  "nbformat": 4,
  "nbformat_minor": 0,
  "metadata": {
    "colab": {
      "name": "Dijkstra SSSPP.ipynb",
      "provenance": [],
      "collapsed_sections": [],
      "authorship_tag": "ABX9TyMSy0lczwG/m67Ox2MBnCkl",
      "include_colab_link": true
    },
    "kernelspec": {
      "name": "python3",
      "display_name": "Python 3"
    },
    "language_info": {
      "name": "python"
    }
  },
  "cells": [
    {
      "cell_type": "markdown",
      "metadata": {
        "id": "view-in-github",
        "colab_type": "text"
      },
      "source": [
        "<a href=\"https://colab.research.google.com/github/Chiragnagori/Dijkstra-SSSPP/blob/main/Dijkstra_SSSPP.ipynb\" target=\"_parent\"><img src=\"https://colab.research.google.com/assets/colab-badge.svg\" alt=\"Open In Colab\"/></a>"
      ]
    },
    {
      "cell_type": "code",
      "metadata": {
        "id": "lrlhqwVaX0vR"
      },
      "source": [
        "from collections import defaultdict"
      ],
      "execution_count": 1,
      "outputs": []
    },
    {
      "cell_type": "code",
      "metadata": {
        "id": "ViYJtcJ-Aq3O"
      },
      "source": [
        "class Graph:\n",
        "  #constructor :: self --> memory add of graph\n",
        "  def __init__(self):\n",
        "    #our graph---> nodes/vertex , connection/edges , weights(km...etc)\n",
        "    #set()---> maths : remove duplicasy : take unique values\n",
        "    self.nodes=set()\n",
        "    self.edges=defaultdict(list)\n",
        "    self.weights={}\n",
        "\n",
        "  def addNode(self ,value):\n",
        "    self.nodes.add(value)\n",
        "\n",
        "  def addEdge(self , fromcity ,tocity ,cost):\n",
        "    self.edges[fromcity].append(tocity)\n",
        "    self.weights[(fromcity,tocity)]=cost"
      ],
      "execution_count": 2,
      "outputs": []
    },
    {
      "cell_type": "code",
      "metadata": {
        "id": "U8HMd4aQCGwn"
      },
      "source": [
        "city = Graph()"
      ],
      "execution_count": 3,
      "outputs": []
    },
    {
      "cell_type": "code",
      "metadata": {
        "id": "qBT3IA1vDOvh"
      },
      "source": [
        "city.addNode(\"jaipur\")\n",
        "city.addNode(\"mumb\")\n",
        "city.addNode(\"hyd\")\n",
        "city.addNode(\"delhi\")\n",
        "city.addNode(\"bang\")"
      ],
      "execution_count": 4,
      "outputs": []
    },
    {
      "cell_type": "code",
      "metadata": {
        "colab": {
          "base_uri": "https://localhost:8080/"
        },
        "id": "ysw3bF5qDRCW",
        "outputId": "4942912b-c044-4e56-9138-6225f792e72d"
      },
      "source": [
        "city.nodes"
      ],
      "execution_count": 5,
      "outputs": [
        {
          "output_type": "execute_result",
          "data": {
            "text/plain": [
              "{'bang', 'delhi', 'hyd', 'jaipur', 'mumb'}"
            ]
          },
          "metadata": {
            "tags": []
          },
          "execution_count": 5
        }
      ]
    },
    {
      "cell_type": "code",
      "metadata": {
        "id": "vLE2BenaFPBR"
      },
      "source": [
        "city.addEdge(\"jaipur\", \"delhi\" ,2)\n",
        "city.addEdge(\"jaipur\", \"mumb\" ,4)\n",
        "city.addEdge(\"jaipur\", \"hyd\" ,5)\n",
        "city.addEdge(\"delhi\", \"goa\" ,6)\n",
        "city.addEdge(\"hyd\", \"goa\" ,4)\n",
        "city.addEdge(\"mumb\", \"goa\" ,2)\n",
        "\n",
        "\n"
      ],
      "execution_count": 6,
      "outputs": []
    },
    {
      "cell_type": "code",
      "metadata": {
        "colab": {
          "base_uri": "https://localhost:8080/"
        },
        "id": "40d2A1AzFWvA",
        "outputId": "6ec55c8d-b863-4d72-8c6c-482cd6dc925a"
      },
      "source": [
        "city.edges"
      ],
      "execution_count": 7,
      "outputs": [
        {
          "output_type": "execute_result",
          "data": {
            "text/plain": [
              "defaultdict(list,\n",
              "            {'delhi': ['goa'],\n",
              "             'hyd': ['goa'],\n",
              "             'jaipur': ['delhi', 'mumb', 'hyd'],\n",
              "             'mumb': ['goa']})"
            ]
          },
          "metadata": {
            "tags": []
          },
          "execution_count": 7
        }
      ]
    },
    {
      "cell_type": "code",
      "metadata": {
        "colab": {
          "base_uri": "https://localhost:8080/"
        },
        "id": "dHtGHCZfGTnH",
        "outputId": "de5c7cea-273e-4113-93ab-d936c686df8f"
      },
      "source": [
        "city.weights"
      ],
      "execution_count": 8,
      "outputs": [
        {
          "output_type": "execute_result",
          "data": {
            "text/plain": [
              "{('delhi', 'goa'): 6,\n",
              " ('hyd', 'goa'): 4,\n",
              " ('jaipur', 'delhi'): 2,\n",
              " ('jaipur', 'hyd'): 5,\n",
              " ('jaipur', 'mumb'): 4,\n",
              " ('mumb', 'goa'): 2}"
            ]
          },
          "metadata": {
            "tags": []
          },
          "execution_count": 8
        }
      ]
    },
    {
      "cell_type": "code",
      "metadata": {
        "colab": {
          "base_uri": "https://localhost:8080/"
        },
        "id": "dCC9IHxNGoDH",
        "outputId": "a7a5eb78-0c88-47bf-fe3e-1d02dc7e4cd3"
      },
      "source": [
        "city.nodes"
      ],
      "execution_count": 9,
      "outputs": [
        {
          "output_type": "execute_result",
          "data": {
            "text/plain": [
              "{'bang', 'delhi', 'hyd', 'jaipur', 'mumb'}"
            ]
          },
          "metadata": {
            "tags": []
          },
          "execution_count": 9
        }
      ]
    },
    {
      "cell_type": "markdown",
      "metadata": {
        "id": "S1ZZIAhVJORR"
      },
      "source": [
        "**Actual example start**"
      ]
    },
    {
      "cell_type": "code",
      "metadata": {
        "id": "8ktioADkJcfE"
      },
      "source": [
        "g=Graph()"
      ],
      "execution_count": 10,
      "outputs": []
    },
    {
      "cell_type": "code",
      "metadata": {
        "id": "kteciTcbJjAa"
      },
      "source": [
        "g.addNode(\"A\")\n",
        "g.addNode(\"B\")\n",
        "g.addNode(\"C\")\n",
        "g.addNode(\"D\")\n",
        "g.addNode(\"E\")\n",
        "g.addNode(\"F\")\n",
        "g.addNode(\"G\")"
      ],
      "execution_count": 11,
      "outputs": []
    },
    {
      "cell_type": "code",
      "metadata": {
        "colab": {
          "base_uri": "https://localhost:8080/"
        },
        "id": "qj0_W37aJ2h1",
        "outputId": "65163201-1e62-4bc6-c2ce-d91d0cbab8e4"
      },
      "source": [
        "g.nodes"
      ],
      "execution_count": 12,
      "outputs": [
        {
          "output_type": "execute_result",
          "data": {
            "text/plain": [
              "{'A', 'B', 'C', 'D', 'E', 'F', 'G'}"
            ]
          },
          "metadata": {
            "tags": []
          },
          "execution_count": 12
        }
      ]
    },
    {
      "cell_type": "code",
      "metadata": {
        "id": "ZSxw4vHGJ4vO"
      },
      "source": [
        "g.addEdge(\"A\",\"B\",2)\n",
        "g.addEdge(\"A\",\"C\",5)\n",
        "g.addEdge(\"B\",\"C\",6)\n",
        "g.addEdge(\"B\",\"D\",1)\n",
        "g.addEdge(\"B\",\"E\",3)\n",
        "g.addEdge(\"C\",\"F\",8)\n",
        "g.addEdge(\"D\",\"E\",4)\n",
        "g.addEdge(\"E\",\"G\",9)\n",
        "g.addEdge(\"F\",\"G\",7)"
      ],
      "execution_count": 13,
      "outputs": []
    },
    {
      "cell_type": "code",
      "metadata": {
        "colab": {
          "base_uri": "https://localhost:8080/"
        },
        "id": "zbeh-zNV9uoW",
        "outputId": "9c246a92-d1b7-4fd6-ebb2-7611ab250a68"
      },
      "source": [
        "g.edges"
      ],
      "execution_count": 14,
      "outputs": [
        {
          "output_type": "execute_result",
          "data": {
            "text/plain": [
              "defaultdict(list,\n",
              "            {'A': ['B', 'C'],\n",
              "             'B': ['C', 'D', 'E'],\n",
              "             'C': ['F'],\n",
              "             'D': ['E'],\n",
              "             'E': ['G'],\n",
              "             'F': ['G']})"
            ]
          },
          "metadata": {
            "tags": []
          },
          "execution_count": 14
        }
      ]
    },
    {
      "cell_type": "markdown",
      "metadata": {
        "id": "3X8yNgQ7DbSp"
      },
      "source": [
        "# **Dijkstra Algo code**"
      ]
    },
    {
      "cell_type": "code",
      "metadata": {
        "id": "qDvpzEc7DZ1X"
      },
      "source": [
        "def dijkstra(graph,initial):\n",
        "  #initial weight is 0 i.e A to A weight is 0\n",
        "  visited={initial:0}\n",
        "  #list:datatype\n",
        "  #here we update our path\n",
        "  path=defaultdict(list)\n",
        "  #set()--> unique\n",
        "  nodes=set(graph.nodes)\n",
        "  while nodes:\n",
        "    minNode=None\n",
        "    for node in nodes:\n",
        "      \n",
        "      if node in visited:\n",
        "        #this is first condition\n",
        "        if minNode is None:\n",
        "          minNode=node\n",
        "        #here we check condition\n",
        "        elif visited[node]<visited[minNode]:\n",
        "          #update minNode\n",
        "          minNode=node\n",
        "    #first time it is None then after it is not null otherwise it stops\n",
        "    #we have only one node\n",
        "    if minNode is None:\n",
        "      break\n",
        "    #we remove minNode becoz we have only one node\n",
        "    nodes.remove(minNode)\n",
        "    #update weight\n",
        "    currentWeight=visited[minNode]\n",
        "    #Now we work on weights\n",
        "    for edge in graph.edges[minNode]:\n",
        "      #update current weight and graph weight from minNode to edge\n",
        "      #eg: currentWeight till B is 2 and minNode weight is 3(E)\n",
        "      #so weight is 3+2=5....\n",
        "      weight=currentWeight+graph.weights[(minNode,edge)]\n",
        "      #keep on doing\n",
        "      if edge not in visited or weight < visited[edge]:\n",
        "        #final weight\n",
        "        visited[edge]=weight\n",
        "        #final path\n",
        "        path[edge].append(minNode)\n",
        "  #visited is for weights\n",
        "  return visited, path  "
      ],
      "execution_count": 20,
      "outputs": []
    },
    {
      "cell_type": "code",
      "metadata": {
        "colab": {
          "base_uri": "https://localhost:8080/"
        },
        "id": "qDBroQRbFbST",
        "outputId": "c2a01500-5559-4f71-92a5-07fabf37afa5"
      },
      "source": [
        "g.edges"
      ],
      "execution_count": 21,
      "outputs": [
        {
          "output_type": "execute_result",
          "data": {
            "text/plain": [
              "defaultdict(list,\n",
              "            {'A': ['B', 'C'],\n",
              "             'B': ['C', 'D', 'E'],\n",
              "             'C': ['F'],\n",
              "             'D': ['E'],\n",
              "             'E': ['G'],\n",
              "             'F': ['G'],\n",
              "             'G': []})"
            ]
          },
          "metadata": {
            "tags": []
          },
          "execution_count": 21
        }
      ]
    },
    {
      "cell_type": "code",
      "metadata": {
        "colab": {
          "base_uri": "https://localhost:8080/"
        },
        "id": "XpkrrggxHa4b",
        "outputId": "f68008d5-48ff-4cbb-83dd-2aec969cde12"
      },
      "source": [
        "g.weights"
      ],
      "execution_count": 22,
      "outputs": [
        {
          "output_type": "execute_result",
          "data": {
            "text/plain": [
              "{('A', 'B'): 2,\n",
              " ('A', 'C'): 5,\n",
              " ('B', 'C'): 6,\n",
              " ('B', 'D'): 1,\n",
              " ('B', 'E'): 3,\n",
              " ('C', 'F'): 8,\n",
              " ('D', 'E'): 4,\n",
              " ('E', 'G'): 9,\n",
              " ('F', 'G'): 7}"
            ]
          },
          "metadata": {
            "tags": []
          },
          "execution_count": 22
        }
      ]
    },
    {
      "cell_type": "code",
      "metadata": {
        "colab": {
          "base_uri": "https://localhost:8080/"
        },
        "id": "cEiOPxzvHhEz",
        "outputId": "36a1a4c6-98f5-4267-9f10-a139bfa17ae8"
      },
      "source": [
        "g.nodes"
      ],
      "execution_count": 23,
      "outputs": [
        {
          "output_type": "execute_result",
          "data": {
            "text/plain": [
              "{'A', 'B', 'C', 'D', 'E', 'F', 'G'}"
            ]
          },
          "metadata": {
            "tags": []
          },
          "execution_count": 23
        }
      ]
    },
    {
      "cell_type": "code",
      "metadata": {
        "colab": {
          "base_uri": "https://localhost:8080/"
        },
        "id": "WBtEAsI_HkPk",
        "outputId": "8275fe03-046b-4497-8a4e-bb3af4778153"
      },
      "source": [
        "dijkstra(g , \"A\")"
      ],
      "execution_count": 24,
      "outputs": [
        {
          "output_type": "execute_result",
          "data": {
            "text/plain": [
              "({'A': 0, 'B': 2, 'C': 5, 'D': 3, 'E': 5, 'F': 13, 'G': 14},\n",
              " defaultdict(list,\n",
              "             {'B': ['A'],\n",
              "              'C': ['A'],\n",
              "              'D': ['B'],\n",
              "              'E': ['B'],\n",
              "              'F': ['C'],\n",
              "              'G': ['E']}))"
            ]
          },
          "metadata": {
            "tags": []
          },
          "execution_count": 24
        }
      ]
    }
  ]
}